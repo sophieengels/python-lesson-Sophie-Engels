{
 "cells": [
  {
   "cell_type": "code",
   "execution_count": 10,
   "metadata": {},
   "outputs": [],
   "source": [
    "import urllib.request\n",
    "import json\n"
   ]
  },
  {
   "cell_type": "code",
   "execution_count": 11,
   "metadata": {},
   "outputs": [],
   "source": [
    "base_url = \"https://api.crossref.org/works/\"\n",
    "doi = \"10.1371/journal.pcbi.1004668\"\n",
    "full_url = base_url + doi"
   ]
  },
  {
   "cell_type": "code",
   "execution_count": 14,
   "metadata": {},
   "outputs": [],
   "source": [
    "doi_json_data = urllib.request.urlopen(full_url).read()"
   ]
  },
  {
   "cell_type": "code",
   "execution_count": 15,
   "metadata": {},
   "outputs": [
    {
     "name": "stdout",
     "output_type": "stream",
     "text": [
      "b'{\"status\":\"ok\",\"message-type\":\"work\",\"message-version\":\"1.0.0\",\"message\":{\"indexed\":{\"date-parts\":[[2021,3,29]],\"date-time\":\"2021-03-29T07:24:36Z\",\"timestamp\":1617002676182},\"reference-count\":6,\"publisher\":\"Public Library of Science (PLoS)\",\"issue\":\"1\",\"license\":[{\"URL\":\"http:\\\\/\\\\/creativecommons.org\\\\/licenses\\\\/by\\\\/4.0\\\\/\",\"start\":{\"date-parts\":[[2016,1,19]],\"date-time\":\"2016-01-19T00:00:00Z\",\"timestamp\":1453161600000},\"delay-in-days\":0,\"content-version\":\"vor\"}],\"content-domain\":{\"domain\":[\"www.ploscompbiol.org\"],\"crossmark-restriction\":false},\"short-container-title\":[\"PLoS Comput Biol\"],\"DOI\":\"10.1371\\\\/journal.pcbi.1004668\",\"type\":\"journal-article\",\"created\":{\"date-parts\":[[2016,1,19]],\"date-time\":\"2016-01-19T21:35:29Z\",\"timestamp\":1453239329000},\"page\":\"e1004668\",\"update-policy\":\"http:\\\\/\\\\/dx.doi.org\\\\/10.1371\\\\/journal.pcbi.corrections_policy\",\"source\":\"Crossref\",\"is-referenced-by-count\":55,\"title\":[\"A Quick Introduction to Version Control with Git and GitHub\"],\"prefix\":\"10.1371\",\"volume\":\"12\",\"author\":[{\"given\":\"John D.\",\"family\":\"Blischak\",\"sequence\":\"first\",\"affiliation\":[]},{\"given\":\"Emily R.\",\"family\":\"Davenport\",\"sequence\":\"additional\",\"affiliation\":[]},{\"given\":\"Greg\",\"family\":\"Wilson\",\"sequence\":\"additional\",\"affiliation\":[]}],\"member\":\"340\",\"published-online\":{\"date-parts\":[[2016,1,19]]},\"reference\":[{\"key\":\"ref1\",\"doi-asserted-by\":\"crossref\",\"first-page\":\"7\",\"DOI\":\"10.1186\\\\/1751-0473-8-7\",\"article-title\":\"Git can facilitate greater reproducibility and increased transparency in science\",\"volume\":\"8\",\"author\":\"K Ram\",\"year\":\"2013\",\"journal-title\":\"Source Code Biol Med\"},{\"key\":\"ref2\",\"doi-asserted-by\":\"crossref\",\"first-page\":\"e1001745\",\"DOI\":\"10.1371\\\\/journal.pbio.1001745\",\"article-title\":\"Best practices for scientific computing\",\"volume\":\"12\",\"author\":\"G Wilson\",\"year\":\"2014\",\"journal-title\":\"PLoS Biol\"},{\"key\":\"ref3\",\"doi-asserted-by\":\"crossref\",\"first-page\":\"57\",\"DOI\":\"10.1038\\\\/nature11247\",\"article-title\":\"An integrated encyclopedia of DNA elements in the human genome\",\"volume\":\"489\",\"author\":\"B Bernstein\",\"year\":\"2012\",\"journal-title\":\"Nature\"},{\"key\":\"ref4\",\"doi-asserted-by\":\"crossref\",\"first-page\":\"e1003326\",\"DOI\":\"10.1371\\\\/journal.pcbi.1003326\",\"article-title\":\"Practical guidelines for the comprehensive analysis of ChIP-seq data\",\"volume\":\"9\",\"author\":\"T Bailey\",\"year\":\"2013\",\"journal-title\":\"PLoS Comput Biol\"},{\"key\":\"ref5\",\"doi-asserted-by\":\"crossref\",\"first-page\":\"e1000424\",\"DOI\":\"10.1371\\\\/journal.pcbi.1000424\",\"article-title\":\"A quick guide to organizing computational biology projects\",\"volume\":\"5\",\"author\":\"W Noble\",\"year\":\"2009\",\"journal-title\":\"PLoS Comput Biol\"},{\"key\":\"ref6\",\"doi-asserted-by\":\"crossref\",\"first-page\":\"e1002598\",\"DOI\":\"10.1371\\\\/journal.pcbi.1002598\",\"article-title\":\"A quick guide to software licensing for the scientist-programmer\",\"volume\":\"8\",\"author\":\"A Morin\",\"year\":\"2012\",\"journal-title\":\"PLoS Comput Biol\"}],\"container-title\":[\"PLOS Computational Biology\"],\"original-title\":[],\"language\":\"en\",\"link\":[{\"URL\":\"http:\\\\/\\\\/dx.plos.org\\\\/10.1371\\\\/journal.pcbi.1004668\",\"content-type\":\"unspecified\",\"content-version\":\"vor\",\"intended-application\":\"similarity-checking\"}],\"deposited\":{\"date-parts\":[[2020,5,8]],\"date-time\":\"2020-05-08T21:36:54Z\",\"timestamp\":1588973814000},\"score\":1.0,\"subtitle\":[],\"editor\":[{\"given\":\"Francis\",\"family\":\"Ouellette\",\"sequence\":\"first\",\"affiliation\":[]}],\"short-title\":[],\"issued\":{\"date-parts\":[[2016,1,19]]},\"references-count\":6,\"journal-issue\":{\"published-online\":{\"date-parts\":[[2016,1,19]]},\"issue\":\"1\"},\"URL\":\"http:\\\\/\\\\/dx.doi.org\\\\/10.1371\\\\/journal.pcbi.1004668\",\"relation\":{\"cites\":[]},\"ISSN\":[\"1553-7358\"],\"issn-type\":[{\"value\":\"1553-7358\",\"type\":\"electronic\"}],\"subject\":[\"Ecology\",\"Modelling and Simulation\",\"Computational Theory and Mathematics\",\"Genetics\",\"Ecology, Evolution, Behavior and Systematics\",\"Molecular Biology\",\"Cellular and Molecular Neuroscience\"]}}'\n"
     ]
    }
   ],
   "source": [
    "print(doi_json_data)"
   ]
  },
  {
   "cell_type": "code",
   "execution_count": 17,
   "metadata": {},
   "outputs": [
    {
     "data": {
      "text/plain": [
       "bytes"
      ]
     },
     "execution_count": 17,
     "metadata": {},
     "output_type": "execute_result"
    }
   ],
   "source": [
    "type(doi_json_data)"
   ]
  },
  {
   "cell_type": "code",
   "execution_count": 18,
   "metadata": {},
   "outputs": [],
   "source": [
    "doi_data = json.loads(doi_json_data)"
   ]
  },
  {
   "cell_type": "code",
   "execution_count": 19,
   "metadata": {},
   "outputs": [
    {
     "data": {
      "text/plain": [
       "dict"
      ]
     },
     "execution_count": 19,
     "metadata": {},
     "output_type": "execute_result"
    }
   ],
   "source": [
    "type(doi_data)"
   ]
  },
  {
   "cell_type": "code",
   "execution_count": 20,
   "metadata": {},
   "outputs": [
    {
     "name": "stdout",
     "output_type": "stream",
     "text": [
      "{'status': 'ok', 'message-type': 'work', 'message-version': '1.0.0', 'message': {'indexed': {'date-parts': [[2021, 3, 29]], 'date-time': '2021-03-29T07:24:36Z', 'timestamp': 1617002676182}, 'reference-count': 6, 'publisher': 'Public Library of Science (PLoS)', 'issue': '1', 'license': [{'URL': 'http://creativecommons.org/licenses/by/4.0/', 'start': {'date-parts': [[2016, 1, 19]], 'date-time': '2016-01-19T00:00:00Z', 'timestamp': 1453161600000}, 'delay-in-days': 0, 'content-version': 'vor'}], 'content-domain': {'domain': ['www.ploscompbiol.org'], 'crossmark-restriction': False}, 'short-container-title': ['PLoS Comput Biol'], 'DOI': '10.1371/journal.pcbi.1004668', 'type': 'journal-article', 'created': {'date-parts': [[2016, 1, 19]], 'date-time': '2016-01-19T21:35:29Z', 'timestamp': 1453239329000}, 'page': 'e1004668', 'update-policy': 'http://dx.doi.org/10.1371/journal.pcbi.corrections_policy', 'source': 'Crossref', 'is-referenced-by-count': 55, 'title': ['A Quick Introduction to Version Control with Git and GitHub'], 'prefix': '10.1371', 'volume': '12', 'author': [{'given': 'John D.', 'family': 'Blischak', 'sequence': 'first', 'affiliation': []}, {'given': 'Emily R.', 'family': 'Davenport', 'sequence': 'additional', 'affiliation': []}, {'given': 'Greg', 'family': 'Wilson', 'sequence': 'additional', 'affiliation': []}], 'member': '340', 'published-online': {'date-parts': [[2016, 1, 19]]}, 'reference': [{'key': 'ref1', 'doi-asserted-by': 'crossref', 'first-page': '7', 'DOI': '10.1186/1751-0473-8-7', 'article-title': 'Git can facilitate greater reproducibility and increased transparency in science', 'volume': '8', 'author': 'K Ram', 'year': '2013', 'journal-title': 'Source Code Biol Med'}, {'key': 'ref2', 'doi-asserted-by': 'crossref', 'first-page': 'e1001745', 'DOI': '10.1371/journal.pbio.1001745', 'article-title': 'Best practices for scientific computing', 'volume': '12', 'author': 'G Wilson', 'year': '2014', 'journal-title': 'PLoS Biol'}, {'key': 'ref3', 'doi-asserted-by': 'crossref', 'first-page': '57', 'DOI': '10.1038/nature11247', 'article-title': 'An integrated encyclopedia of DNA elements in the human genome', 'volume': '489', 'author': 'B Bernstein', 'year': '2012', 'journal-title': 'Nature'}, {'key': 'ref4', 'doi-asserted-by': 'crossref', 'first-page': 'e1003326', 'DOI': '10.1371/journal.pcbi.1003326', 'article-title': 'Practical guidelines for the comprehensive analysis of ChIP-seq data', 'volume': '9', 'author': 'T Bailey', 'year': '2013', 'journal-title': 'PLoS Comput Biol'}, {'key': 'ref5', 'doi-asserted-by': 'crossref', 'first-page': 'e1000424', 'DOI': '10.1371/journal.pcbi.1000424', 'article-title': 'A quick guide to organizing computational biology projects', 'volume': '5', 'author': 'W Noble', 'year': '2009', 'journal-title': 'PLoS Comput Biol'}, {'key': 'ref6', 'doi-asserted-by': 'crossref', 'first-page': 'e1002598', 'DOI': '10.1371/journal.pcbi.1002598', 'article-title': 'A quick guide to software licensing for the scientist-programmer', 'volume': '8', 'author': 'A Morin', 'year': '2012', 'journal-title': 'PLoS Comput Biol'}], 'container-title': ['PLOS Computational Biology'], 'original-title': [], 'language': 'en', 'link': [{'URL': 'http://dx.plos.org/10.1371/journal.pcbi.1004668', 'content-type': 'unspecified', 'content-version': 'vor', 'intended-application': 'similarity-checking'}], 'deposited': {'date-parts': [[2020, 5, 8]], 'date-time': '2020-05-08T21:36:54Z', 'timestamp': 1588973814000}, 'score': 1.0, 'subtitle': [], 'editor': [{'given': 'Francis', 'family': 'Ouellette', 'sequence': 'first', 'affiliation': []}], 'short-title': [], 'issued': {'date-parts': [[2016, 1, 19]]}, 'references-count': 6, 'journal-issue': {'published-online': {'date-parts': [[2016, 1, 19]]}, 'issue': '1'}, 'URL': 'http://dx.doi.org/10.1371/journal.pcbi.1004668', 'relation': {'cites': []}, 'ISSN': ['1553-7358'], 'issn-type': [{'value': '1553-7358', 'type': 'electronic'}], 'subject': ['Ecology', 'Modelling and Simulation', 'Computational Theory and Mathematics', 'Genetics', 'Ecology, Evolution, Behavior and Systematics', 'Molecular Biology', 'Cellular and Molecular Neuroscience']}}\n"
     ]
    }
   ],
   "source": [
    "print(doi_data)"
   ]
  },
  {
   "cell_type": "code",
   "execution_count": 21,
   "metadata": {},
   "outputs": [
    {
     "data": {
      "text/plain": [
       "dict_keys(['status', 'message-type', 'message-version', 'message'])"
      ]
     },
     "execution_count": 21,
     "metadata": {},
     "output_type": "execute_result"
    }
   ],
   "source": [
    "doi_data.keys()"
   ]
  },
  {
   "cell_type": "code",
   "execution_count": 23,
   "metadata": {},
   "outputs": [
    {
     "data": {
      "text/plain": [
       "['PLoS Comput Biol']"
      ]
     },
     "execution_count": 23,
     "metadata": {},
     "output_type": "execute_result"
    }
   ],
   "source": [
    "doi_data[\"message\"][\"short-container-title\"]"
   ]
  },
  {
   "cell_type": "code",
   "execution_count": 24,
   "metadata": {},
   "outputs": [
    {
     "data": {
      "text/plain": [
       "'PLoS Comput Biol'"
      ]
     },
     "execution_count": 24,
     "metadata": {},
     "output_type": "execute_result"
    }
   ],
   "source": [
    "doi_data[\"message\"][\"short-container-title\"][0]"
   ]
  },
  {
   "cell_type": "code",
   "execution_count": 25,
   "metadata": {},
   "outputs": [
    {
     "data": {
      "text/plain": [
       "'A Quick Introduction to Version Control with Git and GitHub'"
      ]
     },
     "execution_count": 25,
     "metadata": {},
     "output_type": "execute_result"
    }
   ],
   "source": [
    "doi_data[\"message\"][\"title\"][0]"
   ]
  },
  {
   "cell_type": "code",
   "execution_count": 26,
   "metadata": {},
   "outputs": [],
   "source": [
    "dois = [\"10.1371/journal.pcbi.1004668\",\n",
    "        \"10.21105/joss.01035\",\n",
    "        \"10.1038/35057062\",\n",
    "        \"10.21105/joss.01006\"]"
   ]
  }
 ],
 "metadata": {
  "kernelspec": {
   "display_name": "Python 3",
   "language": "python",
   "name": "python3"
  },
  "language_info": {
   "codemirror_mode": {
    "name": "ipython",
    "version": 3
   },
   "file_extension": ".py",
   "mimetype": "text/x-python",
   "name": "python",
   "nbconvert_exporter": "python",
   "pygments_lexer": "ipython3",
   "version": "3.8.5"
  }
 },
 "nbformat": 4,
 "nbformat_minor": 4
}
